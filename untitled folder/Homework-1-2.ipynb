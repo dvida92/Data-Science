{
 "cells": [
  {
   "cell_type": "markdown",
   "metadata": {},
   "source": [
    "# Stack Overflow"
   ]
  },
  {
   "cell_type": "markdown",
   "metadata": {},
   "source": [
    "## Introduction "
   ]
  },
  {
   "cell_type": "markdown",
   "metadata": {},
   "source": [
    "In the second part of this assignment, you will choose to create and analyze time series of creation dates of Stack Overflow questions, or Stack Overflow answers. You need to choose only one of the two, but please mention clearly what kind of time series you created. This assignment is to be completed **INDIVIDUALLY** and is due on **October 6 at 5pm**."
   ]
  },
  {
   "cell_type": "markdown",
   "metadata": {},
   "source": [
    "As stated above, you need to create time series of Stack Overflow questions, or answers using their creation dates. In order to do so you should use the information derived from Homework 1.1. Note that the focus of this homework is not on data collection, but on data analysis and interpretation so do not worry if you did not collect all data in the previous homework.\n",
    "\n",
    "You are going to analyze users. If you selected to create time series of questions take the top 100 users with the most question posts, while if you created time series of answers take the top 100 users with the highest answer scores. For each user, your time series will be the number of questions (for questions), or the score value (for answers) posted by that user at some frequency. You may choose to sample your data each week, each month, on a certain day of the week or at a certain hours in a day depending on what trend you are hoping to find in the data. For example, if you choose to analyze users asking questions and sample during different hours of the day, your hypothesis could be that some users ask more questions during night hours because they are students, while others are more active during day time because they work in industry.   \n",
    "\n",
    "Compare the time series using one of the methods discussed in class. In a few paragraphs, write down what you were hoping to find in the data (your hypothesis), what timeseries you created, what method you chose and why. Providing us with novel, or more than one hypotheses/analyses will give you extra credit. **(20 pts)**\n",
    "\n",
    "You may find the [pandas.DataFrame.resample](http://pandas.pydata.org/pandas-docs/stable/generated/pandas.DataFrame.resample.html) module helpful."
   ]
  },
  {
   "cell_type": "markdown",
   "metadata": {},
   "source": [
    "Summry \n",
    "- I am hoping to find some patterns in the users behavior monthly. More specifically, how the top 100 users contributed to Stack Overflow as time elapses in 2015. Therefore, in the \"resampling\" process, I restructured my data by month.\n",
    "\n",
    "- I predict that during the final study period (May and December), we might see a surge in the number of quetions posted.\n",
    "\n",
    "- I will try Euclidean Distance in the first analysis.\n"
   ]
  },
  {
   "cell_type": "code",
   "execution_count": 1,
   "metadata": {
    "collapsed": true
   },
   "outputs": [],
   "source": [
    "# File imports\n",
    "import xml.etree.ElementTree as ET\n",
    "import pandas as pd\n",
    "import numpy as np\n",
    "from pandas import Series, DataFrame\n",
    "from datetime import datetime \n"
   ]
  },
  {
   "cell_type": "code",
   "execution_count": 2,
   "metadata": {
    "scrolled": true
   },
   "outputs": [
    {
     "data": {
      "text/html": [
       "<div>\n",
       "<style>\n",
       "    .dataframe thead tr:only-child th {\n",
       "        text-align: right;\n",
       "    }\n",
       "\n",
       "    .dataframe thead th {\n",
       "        text-align: left;\n",
       "    }\n",
       "\n",
       "    .dataframe tbody tr th {\n",
       "        vertical-align: top;\n",
       "    }\n",
       "</style>\n",
       "<table border=\"1\" class=\"dataframe\">\n",
       "  <thead>\n",
       "    <tr style=\"text-align: right;\">\n",
       "      <th></th>\n",
       "      <th>Id</th>\n",
       "      <th>CreationDate</th>\n",
       "      <th>OwnerUserId</th>\n",
       "      <th>Tags</th>\n",
       "      <th>ViewCount</th>\n",
       "      <th>Score</th>\n",
       "      <th>Type</th>\n",
       "    </tr>\n",
       "  </thead>\n",
       "  <tbody>\n",
       "    <tr>\n",
       "      <th>3</th>\n",
       "      <td>27727385.0</td>\n",
       "      <td>2015-01-01T00:00:58.253</td>\n",
       "      <td>3210431.0</td>\n",
       "      <td>php</td>\n",
       "      <td>184.0</td>\n",
       "      <td>0.0</td>\n",
       "      <td>Q</td>\n",
       "    </tr>\n",
       "    <tr>\n",
       "      <th>5</th>\n",
       "      <td>27727388.0</td>\n",
       "      <td>2015-01-01T00:01:43.673</td>\n",
       "      <td>868779.0</td>\n",
       "      <td>apache-pig</td>\n",
       "      <td>180.0</td>\n",
       "      <td>1.0</td>\n",
       "      <td>Q</td>\n",
       "    </tr>\n",
       "    <tr>\n",
       "      <th>8</th>\n",
       "      <td>27727391.0</td>\n",
       "      <td>2015-01-01T00:02:32.123</td>\n",
       "      <td>4372672.0</td>\n",
       "      <td>ios</td>\n",
       "      <td>127.0</td>\n",
       "      <td>1.0</td>\n",
       "      <td>Q</td>\n",
       "    </tr>\n",
       "    <tr>\n",
       "      <th>9</th>\n",
       "      <td>27727393.0</td>\n",
       "      <td>2015-01-01T00:02:57.983</td>\n",
       "      <td>2482149.0</td>\n",
       "      <td>sql-server</td>\n",
       "      <td>62.0</td>\n",
       "      <td>3.0</td>\n",
       "      <td>Q</td>\n",
       "    </tr>\n",
       "    <tr>\n",
       "      <th>10</th>\n",
       "      <td>27727394.0</td>\n",
       "      <td>2015-01-01T00:03:31.337</td>\n",
       "      <td>4263870.0</td>\n",
       "      <td>php</td>\n",
       "      <td>306.0</td>\n",
       "      <td>-3.0</td>\n",
       "      <td>Q</td>\n",
       "    </tr>\n",
       "  </tbody>\n",
       "</table>\n",
       "</div>"
      ],
      "text/plain": [
       "            Id             CreationDate  OwnerUserId        Tags  ViewCount  \\\n",
       "3   27727385.0  2015-01-01T00:00:58.253    3210431.0         php      184.0   \n",
       "5   27727388.0  2015-01-01T00:01:43.673     868779.0  apache-pig      180.0   \n",
       "8   27727391.0  2015-01-01T00:02:32.123    4372672.0         ios      127.0   \n",
       "9   27727393.0  2015-01-01T00:02:57.983    2482149.0  sql-server       62.0   \n",
       "10  27727394.0  2015-01-01T00:03:31.337    4263870.0         php      306.0   \n",
       "\n",
       "    Score Type  \n",
       "3     0.0    Q  \n",
       "5     1.0    Q  \n",
       "8     1.0    Q  \n",
       "9     3.0    Q  \n",
       "10   -3.0    Q  "
      ]
     },
     "execution_count": 2,
     "metadata": {},
     "output_type": "execute_result"
    }
   ],
   "source": [
    "# Create a data frame by loading a csv file\n",
    "# I am interested in questions posted by top 100 users\n",
    "df = pd.read_csv(\"data_frame.csv\", sep = '\\t', encoding = 'utf-8', )\n",
    "df = df.drop(\"Unnamed: 0\", 1) #Drop the first column automatically created by \"csv method\"\n",
    "df = df[df.Type == \"Q\"]\n",
    "df_question = df[df.OwnerUserId != -1]\n",
    "df_question.head() #df is a dataframe of all questions"
   ]
  },
  {
   "cell_type": "code",
   "execution_count": 3,
   "metadata": {
    "scrolled": true
   },
   "outputs": [
    {
     "data": {
      "text/plain": [
       "875317.0     476\n",
       "2786156.0    363\n",
       "1194415.0    361\n",
       "651174.0     338\n",
       "1833945.0    335\n",
       "Name: OwnerUserId, dtype: int64"
      ]
     },
     "execution_count": 3,
     "metadata": {},
     "output_type": "execute_result"
    }
   ],
   "source": [
    "#Get top 100 users by the number of questions they posted during 2015\n",
    "top100 = df_question['OwnerUserId'].value_counts().head(100)\n",
    "top100_list = top100.index.tolist()\n",
    "top100.head()"
   ]
  },
  {
   "cell_type": "code",
   "execution_count": 4,
   "metadata": {
    "scrolled": true
   },
   "outputs": [
    {
     "data": {
      "text/html": [
       "<div>\n",
       "<style>\n",
       "    .dataframe thead tr:only-child th {\n",
       "        text-align: right;\n",
       "    }\n",
       "\n",
       "    .dataframe thead th {\n",
       "        text-align: left;\n",
       "    }\n",
       "\n",
       "    .dataframe tbody tr th {\n",
       "        vertical-align: top;\n",
       "    }\n",
       "</style>\n",
       "<table border=\"1\" class=\"dataframe\">\n",
       "  <thead>\n",
       "    <tr style=\"text-align: right;\">\n",
       "      <th></th>\n",
       "      <th>Number of Questions</th>\n",
       "      <th>OwnerUserId</th>\n",
       "    </tr>\n",
       "  </thead>\n",
       "  <tbody>\n",
       "    <tr>\n",
       "      <th>0</th>\n",
       "      <td>476</td>\n",
       "      <td>875317.0</td>\n",
       "    </tr>\n",
       "    <tr>\n",
       "      <th>1</th>\n",
       "      <td>363</td>\n",
       "      <td>2786156.0</td>\n",
       "    </tr>\n",
       "    <tr>\n",
       "      <th>2</th>\n",
       "      <td>361</td>\n",
       "      <td>1194415.0</td>\n",
       "    </tr>\n",
       "    <tr>\n",
       "      <th>3</th>\n",
       "      <td>338</td>\n",
       "      <td>651174.0</td>\n",
       "    </tr>\n",
       "    <tr>\n",
       "      <th>4</th>\n",
       "      <td>335</td>\n",
       "      <td>1833945.0</td>\n",
       "    </tr>\n",
       "  </tbody>\n",
       "</table>\n",
       "</div>"
      ],
      "text/plain": [
       "   Number of Questions  OwnerUserId\n",
       "0                  476     875317.0\n",
       "1                  363    2786156.0\n",
       "2                  361    1194415.0\n",
       "3                  338     651174.0\n",
       "4                  335    1833945.0"
      ]
     },
     "execution_count": 4,
     "metadata": {},
     "output_type": "execute_result"
    }
   ],
   "source": [
    "df_rank = pd.DataFrame({'OwnerUserId': top100.index, 'Number of Questions': top100.values})\n",
    "df_rank.head()"
   ]
  },
  {
   "cell_type": "code",
   "execution_count": 6,
   "metadata": {
    "scrolled": true
   },
   "outputs": [
    {
     "data": {
      "text/html": [
       "<div>\n",
       "<style>\n",
       "    .dataframe thead tr:only-child th {\n",
       "        text-align: right;\n",
       "    }\n",
       "\n",
       "    .dataframe thead th {\n",
       "        text-align: left;\n",
       "    }\n",
       "\n",
       "    .dataframe tbody tr th {\n",
       "        vertical-align: top;\n",
       "    }\n",
       "</style>\n",
       "<table border=\"1\" class=\"dataframe\">\n",
       "  <thead>\n",
       "    <tr style=\"text-align: right;\">\n",
       "      <th></th>\n",
       "      <th>Id</th>\n",
       "      <th>CreationDate</th>\n",
       "      <th>OwnerUserId</th>\n",
       "      <th>Tags</th>\n",
       "      <th>ViewCount</th>\n",
       "      <th>Score</th>\n",
       "      <th>Type</th>\n",
       "      <th>Number of Questions</th>\n",
       "    </tr>\n",
       "  </thead>\n",
       "  <tbody>\n",
       "    <tr>\n",
       "      <th>0</th>\n",
       "      <td>27727406.0</td>\n",
       "      <td>2015-01-01 00:05:03.773</td>\n",
       "      <td>875317.0</td>\n",
       "      <td>c#</td>\n",
       "      <td>135.0</td>\n",
       "      <td>3.0</td>\n",
       "      <td>Q</td>\n",
       "      <td>476</td>\n",
       "    </tr>\n",
       "    <tr>\n",
       "      <th>1</th>\n",
       "      <td>27762933.0</td>\n",
       "      <td>2015-01-04 06:10:30.500</td>\n",
       "      <td>875317.0</td>\n",
       "      <td>windows-store-apps</td>\n",
       "      <td>36.0</td>\n",
       "      <td>0.0</td>\n",
       "      <td>Q</td>\n",
       "      <td>476</td>\n",
       "    </tr>\n",
       "    <tr>\n",
       "      <th>2</th>\n",
       "      <td>27789456.0</td>\n",
       "      <td>2015-01-05 23:06:01.837</td>\n",
       "      <td>875317.0</td>\n",
       "      <td>c#</td>\n",
       "      <td>300.0</td>\n",
       "      <td>0.0</td>\n",
       "      <td>Q</td>\n",
       "      <td>476</td>\n",
       "    </tr>\n",
       "    <tr>\n",
       "      <th>3</th>\n",
       "      <td>27803761.0</td>\n",
       "      <td>2015-01-06 17:16:33.923</td>\n",
       "      <td>875317.0</td>\n",
       "      <td>c#</td>\n",
       "      <td>71.0</td>\n",
       "      <td>0.0</td>\n",
       "      <td>Q</td>\n",
       "      <td>476</td>\n",
       "    </tr>\n",
       "    <tr>\n",
       "      <th>4</th>\n",
       "      <td>27804430.0</td>\n",
       "      <td>2015-01-06 18:00:58.740</td>\n",
       "      <td>875317.0</td>\n",
       "      <td>c#</td>\n",
       "      <td>41.0</td>\n",
       "      <td>-1.0</td>\n",
       "      <td>Q</td>\n",
       "      <td>476</td>\n",
       "    </tr>\n",
       "  </tbody>\n",
       "</table>\n",
       "</div>"
      ],
      "text/plain": [
       "           Id            CreationDate  OwnerUserId                Tags  \\\n",
       "0  27727406.0 2015-01-01 00:05:03.773     875317.0                  c#   \n",
       "1  27762933.0 2015-01-04 06:10:30.500     875317.0  windows-store-apps   \n",
       "2  27789456.0 2015-01-05 23:06:01.837     875317.0                  c#   \n",
       "3  27803761.0 2015-01-06 17:16:33.923     875317.0                  c#   \n",
       "4  27804430.0 2015-01-06 18:00:58.740     875317.0                  c#   \n",
       "\n",
       "   ViewCount  Score Type  Number of Questions  \n",
       "0      135.0    3.0    Q                  476  \n",
       "1       36.0    0.0    Q                  476  \n",
       "2      300.0    0.0    Q                  476  \n",
       "3       71.0    0.0    Q                  476  \n",
       "4       41.0   -1.0    Q                  476  "
      ]
     },
     "execution_count": 6,
     "metadata": {},
     "output_type": "execute_result"
    }
   ],
   "source": [
    "# Get all the questions asked by top 100 users\n",
    "df_entry = pd.merge(df_question, df_rank, how = \"inner\", on = [\"OwnerUserId\"]) #Get intersection on owneruserid\n",
    "df_entry.CreationDate = pd.to_datetime(df_entry.CreationDate)\n",
    "df_entry.head()"
   ]
  },
  {
   "cell_type": "code",
   "execution_count": 9,
   "metadata": {
    "scrolled": true
   },
   "outputs": [
    {
     "data": {
      "text/html": [
       "<div>\n",
       "<style>\n",
       "    .dataframe thead tr:only-child th {\n",
       "        text-align: right;\n",
       "    }\n",
       "\n",
       "    .dataframe thead th {\n",
       "        text-align: left;\n",
       "    }\n",
       "\n",
       "    .dataframe tbody tr th {\n",
       "        vertical-align: top;\n",
       "    }\n",
       "</style>\n",
       "<table border=\"1\" class=\"dataframe\">\n",
       "  <thead>\n",
       "    <tr style=\"text-align: right;\">\n",
       "      <th></th>\n",
       "      <th>875317.0</th>\n",
       "      <th>2786156.0</th>\n",
       "      <th>1194415.0</th>\n",
       "      <th>651174.0</th>\n",
       "      <th>1833945.0</th>\n",
       "      <th>1223975.0</th>\n",
       "      <th>4381665.0</th>\n",
       "      <th>4009451.0</th>\n",
       "      <th>2674303.0</th>\n",
       "      <th>784597.0</th>\n",
       "      <th>...</th>\n",
       "      <th>4499505.0</th>\n",
       "      <th>1137669.0</th>\n",
       "      <th>3102968.0</th>\n",
       "      <th>3736648.0</th>\n",
       "      <th>122536.0</th>\n",
       "      <th>3595549.0</th>\n",
       "      <th>1197249.0</th>\n",
       "      <th>264052.0</th>\n",
       "      <th>40106.0</th>\n",
       "      <th>4968722.0</th>\n",
       "    </tr>\n",
       "    <tr>\n",
       "      <th>CreationDate</th>\n",
       "      <th></th>\n",
       "      <th></th>\n",
       "      <th></th>\n",
       "      <th></th>\n",
       "      <th></th>\n",
       "      <th></th>\n",
       "      <th></th>\n",
       "      <th></th>\n",
       "      <th></th>\n",
       "      <th></th>\n",
       "      <th></th>\n",
       "      <th></th>\n",
       "      <th></th>\n",
       "      <th></th>\n",
       "      <th></th>\n",
       "      <th></th>\n",
       "      <th></th>\n",
       "      <th></th>\n",
       "      <th></th>\n",
       "      <th></th>\n",
       "      <th></th>\n",
       "    </tr>\n",
       "  </thead>\n",
       "  <tbody>\n",
       "    <tr>\n",
       "      <th>2015-01-31</th>\n",
       "      <td>37</td>\n",
       "      <td>44</td>\n",
       "      <td>42</td>\n",
       "      <td>40</td>\n",
       "      <td>24</td>\n",
       "      <td>22</td>\n",
       "      <td>12</td>\n",
       "      <td>30</td>\n",
       "      <td>26</td>\n",
       "      <td>34</td>\n",
       "      <td>...</td>\n",
       "      <td>6</td>\n",
       "      <td>1</td>\n",
       "      <td>7</td>\n",
       "      <td>26</td>\n",
       "      <td>20</td>\n",
       "      <td>0.0</td>\n",
       "      <td>1</td>\n",
       "      <td>15</td>\n",
       "      <td>12</td>\n",
       "      <td>0.0</td>\n",
       "    </tr>\n",
       "    <tr>\n",
       "      <th>2015-02-28</th>\n",
       "      <td>16</td>\n",
       "      <td>30</td>\n",
       "      <td>34</td>\n",
       "      <td>35</td>\n",
       "      <td>39</td>\n",
       "      <td>21</td>\n",
       "      <td>36</td>\n",
       "      <td>7</td>\n",
       "      <td>30</td>\n",
       "      <td>14</td>\n",
       "      <td>...</td>\n",
       "      <td>2</td>\n",
       "      <td>9</td>\n",
       "      <td>7</td>\n",
       "      <td>21</td>\n",
       "      <td>34</td>\n",
       "      <td>5.0</td>\n",
       "      <td>15</td>\n",
       "      <td>23</td>\n",
       "      <td>5</td>\n",
       "      <td>0.0</td>\n",
       "    </tr>\n",
       "    <tr>\n",
       "      <th>2015-03-31</th>\n",
       "      <td>37</td>\n",
       "      <td>7</td>\n",
       "      <td>46</td>\n",
       "      <td>40</td>\n",
       "      <td>25</td>\n",
       "      <td>21</td>\n",
       "      <td>31</td>\n",
       "      <td>19</td>\n",
       "      <td>15</td>\n",
       "      <td>20</td>\n",
       "      <td>...</td>\n",
       "      <td>3</td>\n",
       "      <td>38</td>\n",
       "      <td>2</td>\n",
       "      <td>16</td>\n",
       "      <td>32</td>\n",
       "      <td>8.0</td>\n",
       "      <td>39</td>\n",
       "      <td>9</td>\n",
       "      <td>27</td>\n",
       "      <td>0.0</td>\n",
       "    </tr>\n",
       "    <tr>\n",
       "      <th>2015-04-30</th>\n",
       "      <td>34</td>\n",
       "      <td>28</td>\n",
       "      <td>39</td>\n",
       "      <td>25</td>\n",
       "      <td>36</td>\n",
       "      <td>27</td>\n",
       "      <td>37</td>\n",
       "      <td>17</td>\n",
       "      <td>27</td>\n",
       "      <td>9</td>\n",
       "      <td>...</td>\n",
       "      <td>27</td>\n",
       "      <td>18</td>\n",
       "      <td>0</td>\n",
       "      <td>5</td>\n",
       "      <td>16</td>\n",
       "      <td>11.0</td>\n",
       "      <td>15</td>\n",
       "      <td>16</td>\n",
       "      <td>14</td>\n",
       "      <td>0.0</td>\n",
       "    </tr>\n",
       "    <tr>\n",
       "      <th>2015-05-31</th>\n",
       "      <td>22</td>\n",
       "      <td>48</td>\n",
       "      <td>23</td>\n",
       "      <td>38</td>\n",
       "      <td>24</td>\n",
       "      <td>31</td>\n",
       "      <td>25</td>\n",
       "      <td>21</td>\n",
       "      <td>19</td>\n",
       "      <td>15</td>\n",
       "      <td>...</td>\n",
       "      <td>42</td>\n",
       "      <td>30</td>\n",
       "      <td>49</td>\n",
       "      <td>20</td>\n",
       "      <td>11</td>\n",
       "      <td>5.0</td>\n",
       "      <td>15</td>\n",
       "      <td>9</td>\n",
       "      <td>14</td>\n",
       "      <td>0.0</td>\n",
       "    </tr>\n",
       "    <tr>\n",
       "      <th>2015-06-30</th>\n",
       "      <td>50</td>\n",
       "      <td>38</td>\n",
       "      <td>14</td>\n",
       "      <td>21</td>\n",
       "      <td>26</td>\n",
       "      <td>47</td>\n",
       "      <td>22</td>\n",
       "      <td>46</td>\n",
       "      <td>22</td>\n",
       "      <td>18</td>\n",
       "      <td>...</td>\n",
       "      <td>40</td>\n",
       "      <td>1</td>\n",
       "      <td>14</td>\n",
       "      <td>23</td>\n",
       "      <td>1</td>\n",
       "      <td>31.0</td>\n",
       "      <td>6</td>\n",
       "      <td>4</td>\n",
       "      <td>6</td>\n",
       "      <td>17.0</td>\n",
       "    </tr>\n",
       "    <tr>\n",
       "      <th>2015-07-31</th>\n",
       "      <td>49</td>\n",
       "      <td>31</td>\n",
       "      <td>20</td>\n",
       "      <td>35</td>\n",
       "      <td>20</td>\n",
       "      <td>37</td>\n",
       "      <td>32</td>\n",
       "      <td>29</td>\n",
       "      <td>22</td>\n",
       "      <td>17</td>\n",
       "      <td>...</td>\n",
       "      <td>18</td>\n",
       "      <td>0</td>\n",
       "      <td>15</td>\n",
       "      <td>16</td>\n",
       "      <td>1</td>\n",
       "      <td>19.0</td>\n",
       "      <td>12</td>\n",
       "      <td>10</td>\n",
       "      <td>17</td>\n",
       "      <td>30.0</td>\n",
       "    </tr>\n",
       "    <tr>\n",
       "      <th>2015-08-31</th>\n",
       "      <td>44</td>\n",
       "      <td>32</td>\n",
       "      <td>40</td>\n",
       "      <td>24</td>\n",
       "      <td>30</td>\n",
       "      <td>39</td>\n",
       "      <td>28</td>\n",
       "      <td>30</td>\n",
       "      <td>30</td>\n",
       "      <td>12</td>\n",
       "      <td>...</td>\n",
       "      <td>11</td>\n",
       "      <td>0</td>\n",
       "      <td>5</td>\n",
       "      <td>13</td>\n",
       "      <td>5</td>\n",
       "      <td>24.0</td>\n",
       "      <td>31</td>\n",
       "      <td>2</td>\n",
       "      <td>6</td>\n",
       "      <td>28.0</td>\n",
       "    </tr>\n",
       "    <tr>\n",
       "      <th>2015-09-30</th>\n",
       "      <td>49</td>\n",
       "      <td>25</td>\n",
       "      <td>39</td>\n",
       "      <td>25</td>\n",
       "      <td>24</td>\n",
       "      <td>17</td>\n",
       "      <td>36</td>\n",
       "      <td>47</td>\n",
       "      <td>28</td>\n",
       "      <td>15</td>\n",
       "      <td>...</td>\n",
       "      <td>5</td>\n",
       "      <td>28</td>\n",
       "      <td>24</td>\n",
       "      <td>9</td>\n",
       "      <td>2</td>\n",
       "      <td>26.0</td>\n",
       "      <td>6</td>\n",
       "      <td>10</td>\n",
       "      <td>13</td>\n",
       "      <td>16.0</td>\n",
       "    </tr>\n",
       "    <tr>\n",
       "      <th>2015-10-31</th>\n",
       "      <td>50</td>\n",
       "      <td>42</td>\n",
       "      <td>33</td>\n",
       "      <td>24</td>\n",
       "      <td>31</td>\n",
       "      <td>22</td>\n",
       "      <td>29</td>\n",
       "      <td>24</td>\n",
       "      <td>25</td>\n",
       "      <td>28</td>\n",
       "      <td>...</td>\n",
       "      <td>0</td>\n",
       "      <td>11</td>\n",
       "      <td>19</td>\n",
       "      <td>3</td>\n",
       "      <td>4</td>\n",
       "      <td>7.0</td>\n",
       "      <td>8</td>\n",
       "      <td>8</td>\n",
       "      <td>13</td>\n",
       "      <td>37.0</td>\n",
       "    </tr>\n",
       "    <tr>\n",
       "      <th>2015-11-30</th>\n",
       "      <td>38</td>\n",
       "      <td>28</td>\n",
       "      <td>17</td>\n",
       "      <td>8</td>\n",
       "      <td>26</td>\n",
       "      <td>14</td>\n",
       "      <td>9</td>\n",
       "      <td>17</td>\n",
       "      <td>15</td>\n",
       "      <td>40</td>\n",
       "      <td>...</td>\n",
       "      <td>1</td>\n",
       "      <td>14</td>\n",
       "      <td>17</td>\n",
       "      <td>7</td>\n",
       "      <td>7</td>\n",
       "      <td>19.0</td>\n",
       "      <td>3</td>\n",
       "      <td>26</td>\n",
       "      <td>19</td>\n",
       "      <td>22.0</td>\n",
       "    </tr>\n",
       "    <tr>\n",
       "      <th>2015-12-31</th>\n",
       "      <td>50</td>\n",
       "      <td>10</td>\n",
       "      <td>14</td>\n",
       "      <td>23</td>\n",
       "      <td>30</td>\n",
       "      <td>34</td>\n",
       "      <td>26</td>\n",
       "      <td>9</td>\n",
       "      <td>13</td>\n",
       "      <td>40</td>\n",
       "      <td>...</td>\n",
       "      <td>6</td>\n",
       "      <td>11</td>\n",
       "      <td>2</td>\n",
       "      <td>1</td>\n",
       "      <td>27</td>\n",
       "      <td>5.0</td>\n",
       "      <td>8</td>\n",
       "      <td>27</td>\n",
       "      <td>13</td>\n",
       "      <td>8.0</td>\n",
       "    </tr>\n",
       "  </tbody>\n",
       "</table>\n",
       "<p>12 rows × 100 columns</p>\n",
       "</div>"
      ],
      "text/plain": [
       "              875317.0   2786156.0  1194415.0  651174.0   1833945.0  \\\n",
       "CreationDate                                                          \n",
       "2015-01-31           37         44         42         40         24   \n",
       "2015-02-28           16         30         34         35         39   \n",
       "2015-03-31           37          7         46         40         25   \n",
       "2015-04-30           34         28         39         25         36   \n",
       "2015-05-31           22         48         23         38         24   \n",
       "2015-06-30           50         38         14         21         26   \n",
       "2015-07-31           49         31         20         35         20   \n",
       "2015-08-31           44         32         40         24         30   \n",
       "2015-09-30           49         25         39         25         24   \n",
       "2015-10-31           50         42         33         24         31   \n",
       "2015-11-30           38         28         17          8         26   \n",
       "2015-12-31           50         10         14         23         30   \n",
       "\n",
       "              1223975.0  4381665.0  4009451.0  2674303.0  784597.0   \\\n",
       "CreationDate                                                          \n",
       "2015-01-31           22         12         30         26         34   \n",
       "2015-02-28           21         36          7         30         14   \n",
       "2015-03-31           21         31         19         15         20   \n",
       "2015-04-30           27         37         17         27          9   \n",
       "2015-05-31           31         25         21         19         15   \n",
       "2015-06-30           47         22         46         22         18   \n",
       "2015-07-31           37         32         29         22         17   \n",
       "2015-08-31           39         28         30         30         12   \n",
       "2015-09-30           17         36         47         28         15   \n",
       "2015-10-31           22         29         24         25         28   \n",
       "2015-11-30           14          9         17         15         40   \n",
       "2015-12-31           34         26          9         13         40   \n",
       "\n",
       "                ...      4499505.0  1137669.0  3102968.0  3736648.0  \\\n",
       "CreationDate    ...                                                   \n",
       "2015-01-31      ...              6          1          7         26   \n",
       "2015-02-28      ...              2          9          7         21   \n",
       "2015-03-31      ...              3         38          2         16   \n",
       "2015-04-30      ...             27         18          0          5   \n",
       "2015-05-31      ...             42         30         49         20   \n",
       "2015-06-30      ...             40          1         14         23   \n",
       "2015-07-31      ...             18          0         15         16   \n",
       "2015-08-31      ...             11          0          5         13   \n",
       "2015-09-30      ...              5         28         24          9   \n",
       "2015-10-31      ...              0         11         19          3   \n",
       "2015-11-30      ...              1         14         17          7   \n",
       "2015-12-31      ...              6         11          2          1   \n",
       "\n",
       "              122536.0   3595549.0  1197249.0  264052.0   40106.0    4968722.0  \n",
       "CreationDate                                                                    \n",
       "2015-01-31           20        0.0          1         15         12        0.0  \n",
       "2015-02-28           34        5.0         15         23          5        0.0  \n",
       "2015-03-31           32        8.0         39          9         27        0.0  \n",
       "2015-04-30           16       11.0         15         16         14        0.0  \n",
       "2015-05-31           11        5.0         15          9         14        0.0  \n",
       "2015-06-30            1       31.0          6          4          6       17.0  \n",
       "2015-07-31            1       19.0         12         10         17       30.0  \n",
       "2015-08-31            5       24.0         31          2          6       28.0  \n",
       "2015-09-30            2       26.0          6         10         13       16.0  \n",
       "2015-10-31            4        7.0          8          8         13       37.0  \n",
       "2015-11-30            7       19.0          3         26         19       22.0  \n",
       "2015-12-31           27        5.0          8         27         13        8.0  \n",
       "\n",
       "[12 rows x 100 columns]"
      ]
     },
     "execution_count": 9,
     "metadata": {},
     "output_type": "execute_result"
    }
   ],
   "source": [
    "# Input: a list of top 100 users, all the entries\n",
    "# Output: Return a data frame of users' time series\n",
    "def getTimeSeriesDataFrame(top100_users, df_all_entries):\n",
    "    df_875317 = df_entry[df_entry['OwnerUserId'] == 875317.0] #User 875317 has the indices (all 12 months) I want\n",
    "    series_875317 = df_875317.resample('M', on='CreationDate')['OwnerUserId'].count()\n",
    "    df_Time_Series = pd.DataFrame(index = series_875317.index) #Set the index properly. Now it's empty\n",
    "    \n",
    "    for user in top100_users:\n",
    "        df_tmp = df_all_entries[df_all_entries.OwnerUserId == user]\n",
    "        series_tmp = df_tmp.resample('M', on = 'CreationDate')['OwnerUserId'].count()\n",
    "        df_Time_Series[user] = series_tmp\n",
    "    \n",
    "    return df_Time_Series\n",
    "\n",
    "#Store all time series in a dataframe\n",
    "df_Time_Series_100 = getTimeSeriesDataFrame(top100_list, df_entry).fillna(0)\n",
    "df_Time_Series_100"
   ]
  },
  {
   "cell_type": "code",
   "execution_count": 10,
   "metadata": {
    "scrolled": true
   },
   "outputs": [
    {
     "data": {
      "text/plain": [
       "array([[37, 16, 37, ..., 50, 38, 50],\n",
       "       [44, 30,  7, ..., 42, 28, 10],\n",
       "       [42, 34, 46, ..., 33, 17, 14],\n",
       "       ..., \n",
       "       [15, 23,  9, ...,  8, 26, 27],\n",
       "       [12,  5, 27, ..., 13, 19, 13],\n",
       "       [ 0,  0,  0, ..., 37, 22,  8]])"
      ]
     },
     "execution_count": 10,
     "metadata": {},
     "output_type": "execute_result"
    }
   ],
   "source": [
    "# Convert df_Time_Series to an array for manipulation later \n",
    "list_time_series = []\n",
    "for column in df_Time_Series_100:\n",
    "    list_time_series.append(df_Time_Series_100[column].tolist())\n",
    "\n",
    "X_array = np.array(list_time_series, dtype = int) #Store in a numpy array and set data type = integer\n",
    "X_array"
   ]
  },
  {
   "cell_type": "code",
   "execution_count": 20,
   "metadata": {},
   "outputs": [
    {
     "data": {
      "text/plain": [
       "array([[   0.        ,   69.34695379,   68.81133628, ...,  105.68348972,\n",
       "         100.54352291,   98.07140256],\n",
       "       [  69.34695379,    0.        ,   58.83876273, ...,   82.03657721,\n",
       "          79.82480817,   81.09870529],\n",
       "       [  68.81133628,   58.83876273,    0.        , ...,   79.39773297,\n",
       "          71.54019849,   89.13472948],\n",
       "       ..., \n",
       "       [ 105.68348972,   82.03657721,   79.39773297, ...,    0.        ,\n",
       "          32.15587038,   60.58877784],\n",
       "       [ 100.54352291,   79.82480817,   71.54019849, ...,   32.15587038,\n",
       "           0.        ,   51.79768335],\n",
       "       [  98.07140256,   81.09870529,   89.13472948, ...,   60.58877784,\n",
       "          51.79768335,    0.        ]])"
      ]
     },
     "execution_count": 20,
     "metadata": {},
     "output_type": "execute_result"
    }
   ],
   "source": [
    "#Get pairwise distance array\n",
    "import scipy\n",
    "from scipy.spatial.distance import pdist, squareform\n",
    "\n",
    "Y = pdist(X_array, 'euclidean')\n",
    "X = squareform(Y) \n",
    "\n",
    "X"
   ]
  },
  {
   "cell_type": "code",
   "execution_count": 21,
   "metadata": {},
   "outputs": [
    {
     "data": {
      "text/plain": [
       "(11, 51)"
      ]
     },
     "execution_count": 21,
     "metadata": {},
     "output_type": "execute_result"
    }
   ],
   "source": [
    "# Get the most dissimilar two users in a tuple\n",
    "coordinates_dis = np.unravel_index(X.argmax(), X.shape)\n",
    "coordinates_dis"
   ]
  },
  {
   "cell_type": "code",
   "execution_count": 22,
   "metadata": {},
   "outputs": [
    {
     "data": {
      "text/plain": [
       "(63, 86)"
      ]
     },
     "execution_count": 22,
     "metadata": {},
     "output_type": "execute_result"
    }
   ],
   "source": [
    "# Get the most similar two users in a tuple\n",
    "X_masked = np.ma.masked_equal(X, 0.0, copy=False)\n",
    "coordinates_sim = np.unravel_index(X_masked.argmin(), X_masked.shape)\n",
    "coordinates_sim"
   ]
  },
  {
   "cell_type": "code",
   "execution_count": 23,
   "metadata": {
    "collapsed": true,
    "scrolled": false
   },
   "outputs": [],
   "source": [
    "# #Test how resample works; PLEASE IGNORE\n",
    "# df_blah = df_entry[df_entry['OwnerUserId'] == 4968722.0]\n",
    "# series = df_blah.resample('M', on='CreationDate')['OwnerUserId'].count()\n",
    "# series"
   ]
  },
  {
   "cell_type": "markdown",
   "metadata": {},
   "source": [
    "\n",
    "Plot the 2 most similar timeseries in one graph, and plot the 2 most different time series in another graph. Label your axes. **(5 pts)**"
   ]
  },
  {
   "cell_type": "code",
   "execution_count": 24,
   "metadata": {},
   "outputs": [
    {
     "data": {
      "image/png": "[encoded data removed]",
      "text/plain": [
       "<matplotlib.figure.Figure at 0x11a8d86a0>"
      ]
     },
     "metadata": {},
     "output_type": "display_data"
    },
    {
     "data": {
      "image/png": "[encoded data removed]",
      "text/plain": [
       "<matplotlib.figure.Figure at 0x114b43c50>"
      ]
     },
     "metadata": {},
     "output_type": "display_data"
    }
   ],
   "source": [
    "import matplotlib.pyplot as plt\n",
    "%matplotlib inline   \n",
    "\n",
    "df_diss = df_Time_Series_100[[top100_list[coordinates_dis[0]], top100_list[coordinates_dis[1]]]]\n",
    "plot_dis = df_diss.plot(title = 'Most Dissimilar Users', colormap='jet', marker='.')\n",
    "plot_dis.set_ylabel(\"Number of Posts\")\n",
    "L = plot_dis.legend()\n",
    "L.get_texts()[0].set_text('User ID: ' + str(int(top100_list[coordinates_dis[0]])))\n",
    "L.get_texts()[1].set_text('User ID: ' + str(int(top100_list[coordinates_dis[1]])))\n",
    "\n",
    "df_simm = df_Time_Series_100[[top100_list[coordinates_sim[0]], top100_list[coordinates_sim[1]]]]\n",
    "plot_sim = df_simm.plot(title = 'Most Similar Users', colormap='jet', marker='.')\n",
    "plot_sim.set_ylabel(\"Number of Posts\")\n",
    "L1 = plot_sim.legend()\n",
    "L1.get_texts()[0].set_text('User ID: ' + str(int(top100_list[coordinates_sim[0]])))\n",
    "L1.get_texts()[1].set_text('User ID: ' + str(int(top100_list[coordinates_sim[1]])))"
   ]
  },
  {
   "cell_type": "markdown",
   "metadata": {},
   "source": [
    "What are your interpretation/conclusions from the above plotting comparisons? **(5 pts)**"
   ]
  },
  {
   "cell_type": "markdown",
   "metadata": {
    "collapsed": true
   },
   "source": [
    "\n",
    "- Although many more sophisticated measures exist, the Euclidean distance is by far the most frequently used distance measure. Therefore, I chose Euclidean distance as my dissimilarity function. \n",
    "\n",
    "- After constructing my dafa frame and numpy array, I calculated the Euclidean distances and store the pairwise values in a matrix. With the 4 targeted users identified, I plotted their time series separately in two plots.\n",
    "\n",
    "- In the plots, the x axis is the month in 2015. Based on the total number of questions posted, we may predict that users may post more questions during May and December, since the users consist of many college engineering students.\n",
    "\n",
    "- To sum, Euclidean distance is the sum of squared differences the time series, and it's indeed reflected in the two plots."
   ]
  },
  {
   "cell_type": "markdown",
   "metadata": {},
   "source": [
    "-----------------"
   ]
  },
  {
   "cell_type": "markdown",
   "metadata": {},
   "source": [
    "Choose a different distance/similarity metric and repeat the same time series analysis. **(5 pts)**"
   ]
  },
  {
   "cell_type": "code",
   "execution_count": 25,
   "metadata": {},
   "outputs": [
    {
     "data": {
      "image/png": "[encoded data removed]",
      "text/plain": [
       "<matplotlib.figure.Figure at 0x114950ef0>"
      ]
     },
     "metadata": {},
     "output_type": "display_data"
    },
    {
     "data": {
      "image/png": "[encoded data removed]",
      "text/plain": [
       "<matplotlib.figure.Figure at 0x1142c1ba8>"
      ]
     },
     "metadata": {},
     "output_type": "display_data"
    }
   ],
   "source": [
    "M = pdist(X_array, 'correlation')\n",
    "N = squareform(M) \n",
    "coordinates_dis = np.unravel_index(N.argmax(), N.shape)\n",
    "N_masked = np.ma.masked_equal(N, 0.0, copy=False)\n",
    "coordinates_sim = np.unravel_index(N_masked.argmin(), N_masked.shape)\n",
    "\n",
    "df_diss = df_Time_Series_100[[top100_list[coordinates_dis[0]], top100_list[coordinates_dis[1]]]]\n",
    "plot_dis = df_diss.plot(title = 'Most Dissimilar Users', colormap='jet', marker='.')\n",
    "plot_dis.set_ylabel(\"Number of Posts\")\n",
    "L = plot_dis.legend()\n",
    "L.get_texts()[0].set_text('User ID: ' + str(int(top100_list[coordinates_dis[0]])))\n",
    "L.get_texts()[1].set_text('User ID: ' + str(int(top100_list[coordinates_dis[1]])))\n",
    "\n",
    "df_simm = df_Time_Series_100[[top100_list[coordinates_sim[0]], top100_list[coordinates_sim[1]]]]\n",
    "plot_sim = df_simm.plot(title = 'Most Similar Users', colormap='jet', marker='.')\n",
    "plot_sim.set_ylabel(\"Number of Posts\")\n",
    "L1 = plot_sim.legend()\n",
    "L1.get_texts()[0].set_text('User ID: ' + str(int(top100_list[coordinates_sim[0]])))\n",
    "L1.get_texts()[1].set_text('User ID: ' + str(int(top100_list[coordinates_sim[1]])))"
   ]
  },
  {
   "cell_type": "markdown",
   "metadata": {},
   "source": [
    "Compare the two different metrics you used and report any observations. Why did you select the specific metrics? Which do you think performed better based on the results you were expecting and why? **(5 pts)**"
   ]
  },
  {
   "cell_type": "markdown",
   "metadata": {
    "collapsed": true
   },
   "source": [
    "- I chose \"correlation\" as the metric for the second analysis. As shown in the plots, we have different results (pair of users) compared to the first metric. \n",
    "\n",
    "- Compared to Euclidean distance, this approach yields users who have a totally different/similar trend of posting questions. If we are studying the behavior of two similar users, \"correlation\" metric is better in this context.\n"
   ]
  }
 ],
 "metadata": {
  "anaconda-cloud": {},
  "kernelspec": {
   "display_name": "Python 3",
   "language": "python",
   "name": "python3"
  },
  "language_info": {
   "codemirror_mode": {
    "name": "ipython",
    "version": 3
   },
   "file_extension": ".py",
   "mimetype": "text/x-python",
   "name": "python",
   "nbconvert_exporter": "python",
   "pygments_lexer": "ipython3",
   "version": "3.6.1"
  }
 },
 "nbformat": 4,
 "nbformat_minor": 1
}
